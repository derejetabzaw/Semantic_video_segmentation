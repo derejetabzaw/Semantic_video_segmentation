{
 "cells": [
  {
   "cell_type": "code",
   "execution_count": 336,
   "id": "80ece6e2-1c1e-44ef-80d0-5f0fe7667bf0",
   "metadata": {},
   "outputs": [],
   "source": [
    "import os \n",
    "import numpy as np "
   ]
  },
  {
   "cell_type": "code",
   "execution_count": null,
   "id": "9f1131af-91bb-4da6-b575-4f01690c5aeb",
   "metadata": {},
   "outputs": [],
   "source": [
    "# os.system(scenedetect -i \"input.avi\" -o \"...\\Computer Vision\\project\\Dataset\\keyframe\" detect-threshold -t 50 split-video list-scenes)"
   ]
  },
  {
   "cell_type": "markdown",
   "id": "be962ef6-f107-4fb3-b756-1b1bdc902216",
   "metadata": {},
   "source": [
    "ConvFeats Feature Extraction "
   ]
  },
  {
   "cell_type": "code",
   "execution_count": 337,
   "id": "4cd4b8ec-9691-4f89-b035-dfbe25ec3e69",
   "metadata": {},
   "outputs": [],
   "source": [
    "from tensorflow import keras\n",
    "from keras.preprocessing.image import load_img\n",
    "from keras.preprocessing.image import img_to_array\n",
    "from keras.applications.vgg16 import preprocess_input\n",
    "from tensorflow.keras.layers import Input, Conv2D\n",
    "from tensorflow.keras.layers import MaxPool2D, Flatten, Dense\n",
    "from tensorflow.keras import Model"
   ]
  },
  {
   "cell_type": "code",
   "execution_count": 333,
   "id": "7e8478ec-af35-4931-8f1d-9fba8af8b911",
   "metadata": {},
   "outputs": [],
   "source": [
    "\n",
    "def convfeats(image):\n",
    "    image = img_to_array(load_img(image, target_size=(224, 224)))\n",
    "\n",
    "    image = image.reshape((1, image.shape[0], image.shape[1], image.shape[2]))\n",
    "\n",
    "    # prepare the image for the VGG model\n",
    "    image = preprocess_input(image)\n",
    "\n",
    "    # 1st Conv Block\n",
    "\n",
    "    x = Conv2D (filters =64, kernel_size =3, padding ='same', activation='relu')(image)\n",
    "    x = Conv2D (filters =64, kernel_size =3, padding ='same', activation='relu')(x)\n",
    "    x = MaxPool2D(pool_size =2, strides =2, padding ='same')(x)\n",
    "    # 2nd Conv Block\n",
    "\n",
    "    x = Conv2D (filters =128, kernel_size =3, padding ='same', activation='relu')(x)\n",
    "    x = Conv2D (filters =128, kernel_size =3, padding ='same', activation='relu')(x)\n",
    "    x = MaxPool2D(pool_size =2, strides =2, padding ='same')(x)\n",
    "    # 3rd Conv block\n",
    "\n",
    "    x = Conv2D (filters =256, kernel_size =3, padding ='same', activation='relu')(x)\n",
    "    x = Conv2D (filters =256, kernel_size =3, padding ='same', activation='relu')(x)\n",
    "    x = Conv2D (filters =256, kernel_size =3, padding ='same', activation='relu')(x)\n",
    "    x = MaxPool2D(pool_size =2, strides =2, padding ='same')(x)\n",
    "    # 4th Conv block\n",
    "\n",
    "    x = Conv2D (filters =512, kernel_size =3, padding ='same', activation='relu')(x)\n",
    "    x = Conv2D (filters =512, kernel_size =3, padding ='same', activation='relu')(x)\n",
    "    x = Conv2D (filters =512, kernel_size =3, padding ='same', activation='relu')(x)\n",
    "    x = MaxPool2D(pool_size =2, strides =2, padding ='same')(x)\n",
    "\n",
    "    # 5th Conv block\n",
    "\n",
    "    x = Conv2D (filters =512, kernel_size =3, padding ='same', activation='relu')(x)\n",
    "    x = Conv2D (filters =512, kernel_size =3, padding ='same', activation='relu')(x)\n",
    "    x = Conv2D (filters =512, kernel_size =3, padding ='same', activation='relu')(x)\n",
    "    x = MaxPool2D(pool_size =2, strides =2, padding ='same')(x)\n",
    "    # Fully connected layers\n",
    "\n",
    "    x = Flatten()(x)\n",
    "\n",
    "    return Dense(units = 4096, activation ='relu')(x)"
   ]
  },
  {
   "cell_type": "code",
   "execution_count": 335,
   "id": "d9030139-82c2-4adf-8562-c41673d95cca",
   "metadata": {},
   "outputs": [],
   "source": [
    "image = os.getcwd() + '/Dataset/keyframes/big_buck_bunny_480p_stereo-Scene-004-02.jpg'"
   ]
  },
  {
   "cell_type": "code",
   "execution_count": 334,
   "id": "eaf28528-587d-4590-aafc-a65b471b19de",
   "metadata": {},
   "outputs": [
    {
     "ename": "NameError",
     "evalue": "name 'convFeats' is not defined",
     "output_type": "error",
     "traceback": [
      "\u001b[1;31m---------------------------------------------------------------------------\u001b[0m",
      "\u001b[1;31mNameError\u001b[0m                                 Traceback (most recent call last)",
      "\u001b[1;32m~\\AppData\\Local\\Temp/ipykernel_12516/2764585866.py\u001b[0m in \u001b[0;36m<module>\u001b[1;34m\u001b[0m\n\u001b[1;32m----> 1\u001b[1;33m \u001b[0mconvFeats\u001b[0m \u001b[1;33m=\u001b[0m \u001b[0mkeras\u001b[0m\u001b[1;33m.\u001b[0m\u001b[0mlayers\u001b[0m\u001b[1;33m.\u001b[0m\u001b[0mConcatenate\u001b[0m\u001b[1;33m(\u001b[0m\u001b[0maxis\u001b[0m\u001b[1;33m=\u001b[0m\u001b[1;36m0\u001b[0m\u001b[1;33m)\u001b[0m\u001b[1;33m(\u001b[0m\u001b[1;33m[\u001b[0m\u001b[0mconvFeats\u001b[0m\u001b[1;33m,\u001b[0m\u001b[0mk_new\u001b[0m\u001b[1;33m]\u001b[0m\u001b[1;33m)\u001b[0m\u001b[1;33m\u001b[0m\u001b[1;33m\u001b[0m\u001b[0m\n\u001b[0m",
      "\u001b[1;31mNameError\u001b[0m: name 'convFeats' is not defined"
     ]
    }
   ],
   "source": [
    "convFeats = keras.layers.Concatenate(axis=0)([convFeats,k_new])"
   ]
  },
  {
   "cell_type": "markdown",
   "id": "a83d0cfb-88db-4757-9647-185e409cd682",
   "metadata": {},
   "source": [
    "CSIFT Feature Extraction"
   ]
  },
  {
   "cell_type": "code",
   "execution_count": 215,
   "id": "cda89aa1-fdd0-4a43-8317-b7e1f31d029f",
   "metadata": {},
   "outputs": [],
   "source": [
    "import cv2\n",
    "import os \n",
    "import skimage.io as io \n",
    "from sklearn.cluster import KMeans\n",
    "from sklearn_extra.cluster import KMedoids\n",
    "image = (os.getcwd() + \"/Dataset/keyframes/big_buck_bunny_480p_stereo-Scene-007-02.jpg\").replace(\"\\\\\",\"/\")\n",
    "# image = io.imread(image)\n",
    "image = cv2.imread(image,1)\n",
    "sift = cv2.xfeatures2d.SIFT_create()\n",
    "(key_points,descriptors) = sift.detectAndCompute(image, None)\n"
   ]
  },
  {
   "cell_type": "code",
   "execution_count": 216,
   "id": "8fd0a82b-47e6-4345-b447-6533e37cf1eb",
   "metadata": {},
   "outputs": [],
   "source": [
    "points = [key_points[idx].pt for idx in range(0, len(key_points))]\n"
   ]
  },
  {
   "cell_type": "code",
   "execution_count": 217,
   "id": "28f4f209-e3e0-4c5e-8de5-cc2791f7220e",
   "metadata": {},
   "outputs": [],
   "source": [
    "kmean = KMeans(100)"
   ]
  },
  {
   "cell_type": "code",
   "execution_count": 218,
   "id": "cd0fa5d5-42aa-4ec9-9408-eabe59601a23",
   "metadata": {},
   "outputs": [
    {
     "data": {
      "text/plain": [
       "KMeans(n_clusters=100)"
      ]
     },
     "execution_count": 218,
     "metadata": {},
     "output_type": "execute_result"
    }
   ],
   "source": [
    "kmean.fit(points)"
   ]
  },
  {
   "cell_type": "code",
   "execution_count": 219,
   "id": "4cd44d11-4c17-425d-a325-a3d184fee01b",
   "metadata": {},
   "outputs": [],
   "source": [
    "clustered_points = kmean.cluster_centers_"
   ]
  },
  {
   "cell_type": "code",
   "execution_count": 220,
   "id": "36e95a25-c4cf-4b1e-b452-0cbddeadc4df",
   "metadata": {},
   "outputs": [],
   "source": [
    "backtorgb = cv2.cvtColor(descriptors,cv2.COLOR_GRAY2RGB)\n",
    "descriptor_in_rgb = backtorgb.reshape(backtorgb.shape[0],backtorgb.shape[1]*backtorgb.shape[2])\n",
    "kmedoids = KMedoids(n_clusters=100, random_state=0,metric='euclidean').fit(descriptor_in_rgb)"
   ]
  },
  {
   "cell_type": "code",
   "execution_count": 221,
   "id": "c4043ae0-202b-4e48-9c79-c27309651391",
   "metadata": {},
   "outputs": [],
   "source": [
    "kmedoids_selection = kmedoids.cluster_centers_"
   ]
  },
  {
   "cell_type": "code",
   "execution_count": 222,
   "id": "1fe11dbc-8ccf-4f44-b11e-e68ae66477fc",
   "metadata": {},
   "outputs": [],
   "source": [
    "CSIFTFeatures = clustered_points,kmedoids_selection"
   ]
  },
  {
   "cell_type": "markdown",
   "id": "06fda0c0-c169-416e-b392-66080609ad41",
   "metadata": {},
   "source": [
    "MFCC Features"
   ]
  },
  {
   "cell_type": "code",
   "execution_count": 224,
   "id": "94834e44-d3a6-48f0-98eb-68f4a0ba3313",
   "metadata": {},
   "outputs": [
    {
     "data": {
      "text/plain": [
       "(22949, 13)"
      ]
     },
     "execution_count": 224,
     "metadata": {},
     "output_type": "execute_result"
    }
   ],
   "source": [
    "from scipy.io import wavfile\n",
    "from python_speech_features import mfcc, logfbank\n",
    "\n",
    "# ffmpeg -i input.mp4 -vn -acodec pcm_s16le -ar 16000 -ac 2 output.wav\n",
    "\n",
    "frequency_sampling, audio_signal = wavfile.read(\"Dataset/keyframe_audio/output.wav\")\n",
    "\n",
    "features_mfcc = mfcc(audio_signal, frequency_sampling)\n",
    "\n",
    "\n"
   ]
  },
  {
   "cell_type": "code",
   "execution_count": 225,
   "id": "99e3b216-a3f3-45e1-8342-2f2ca9b0abf9",
   "metadata": {},
   "outputs": [],
   "source": [
    "kmean_for_audio = KMeans(500)"
   ]
  },
  {
   "cell_type": "code",
   "execution_count": 226,
   "id": "060984e7-fd7d-4ebc-9ec2-4823b0f4fd73",
   "metadata": {},
   "outputs": [
    {
     "data": {
      "text/plain": [
       "KMeans(n_clusters=500)"
      ]
     },
     "execution_count": 226,
     "metadata": {},
     "output_type": "execute_result"
    }
   ],
   "source": [
    "kmean_for_audio.fit(features_mfcc)"
   ]
  },
  {
   "cell_type": "code",
   "execution_count": 315,
   "id": "34b2d85b-f936-4729-a9cd-3e55d74b8409",
   "metadata": {},
   "outputs": [
    {
     "data": {
      "text/plain": [
       "(500, 13)"
      ]
     },
     "execution_count": 315,
     "metadata": {},
     "output_type": "execute_result"
    }
   ],
   "source": [
    "clustered_audio_samples = kmean_for_audio.cluster_centers_\n",
    "clustered_audio_samples.shape"
   ]
  },
  {
   "cell_type": "markdown",
   "id": "5dbefa32-3087-4d68-ada0-b3ad8c8602a8",
   "metadata": {},
   "source": [
    "MFCCfeature ---> CNN"
   ]
  },
  {
   "cell_type": "code",
   "execution_count": 313,
   "id": "ed29e612-fe7e-4eff-9567-287846ccbf46",
   "metadata": {},
   "outputs": [
    {
     "name": "stdout",
     "output_type": "stream",
     "text": [
      "Model: \"sequential_72\"\n",
      "_________________________________________________________________\n",
      "Layer (type)                 Output Shape              Param #   \n",
      "=================================================================\n",
      "conv1d_130 (Conv1D)          (None, 469, 13)           5421      \n",
      "_________________________________________________________________\n",
      "max_pooling1d_99 (MaxPooling (None, 78, 13)            0         \n",
      "_________________________________________________________________\n",
      "conv1d_131 (Conv1D)          (None, 15, 32)            26656     \n",
      "_________________________________________________________________\n",
      "max_pooling1d_100 (MaxPoolin (None, 2, 32)             0         \n",
      "_________________________________________________________________\n",
      "flatten_12 (Flatten)         (None, 64)                0         \n",
      "=================================================================\n",
      "Total params: 32,077\n",
      "Trainable params: 32,077\n",
      "Non-trainable params: 0\n",
      "_________________________________________________________________\n"
     ]
    }
   ],
   "source": [
    "import tensorflow as tf\n",
    "from tensorflow.keras import layers, models\n",
    "\n",
    "def cnn_for_mfcc(input):\n",
    "    model = models.Sequential()\n",
    "    model.add(layers.Conv1D(13, 32, activation = 'relu', input_shape=input.shape))\n",
    "    model.add(layers.MaxPooling1D(6))\n",
    "\n",
    "    model.add(layers.Conv1D(32, 64,activation = 'relu'))\n",
    "    model.add(layers.MaxPooling1D(7))\n",
    "\n",
    "    model.add(layers.Conv1D(64, 128 , activation = 'relu'))\n",
    "    model.add(layers.MaxPooling1D(8))\n",
    "    model.add(Flatten())\n",
    "    model.summary()\n",
    "    return model(input)"
   ]
  },
  {
   "cell_type": "code",
   "execution_count": null,
   "id": "28d27078-8227-40d3-93b7-b7bf278b376d",
   "metadata": {},
   "outputs": [],
   "source": [
    "def cnn_for_convfeats(input):\n",
    "    model = models.Sequential()\n",
    "    model.add(layers.Conv1D(4096, 1024, activation = 'relu', input_shape=input.shape))\n",
    "    model.add(layers.MaxPooling1D(2))\n",
    "\n",
    "    model.add(layers.Conv1D(1024, 256,activation = 'relu'))\n",
    "    model.add(layers.MaxPooling1D(2))\n",
    "\n",
    "    model.add(Flatten())\n",
    "    return model(input)"
   ]
  },
  {
   "cell_type": "code",
   "execution_count": 316,
   "id": "c2318da4-2b77-451a-81b9-3e8a0d6fcda4",
   "metadata": {},
   "outputs": [],
   "source": [
    "def cnn_for_csift(input):\n",
    "    model = models.Sequential()\n",
    "    model.add(layers.Conv1D(384, 300, activation = 'relu', input_shape=input.shape))\n",
    "    model.add(layers.MaxPooling1D(4))\n",
    "\n",
    "    model.add(layers.Conv1D(300, 256,activation = 'relu'))\n",
    "    model.add(layers.MaxPooling1D(4))\n",
    "\n",
    "    model.add(layers.Conv1D(256, 128 , activation = 'relu'))\n",
    "    model.add(layers.MaxPooling1D(5))\n",
    "    model.add(Flatten())\n",
    "    return model(input)"
   ]
  },
  {
   "cell_type": "markdown",
   "id": "9984ec87-3c9b-4846-a172-301063bbbf18",
   "metadata": {},
   "source": [
    "LSTM Architecture "
   ]
  },
  {
   "cell_type": "code",
   "execution_count": 327,
   "id": "eeaceef2-ce5c-4fc9-94d7-dc47c177f449",
   "metadata": {},
   "outputs": [],
   "source": [
    "from keras.models import Sequential\n",
    "from keras.layers import CuDNNLSTM, Dense, Dropout, LSTM\n",
    "from keras.activations import sigmoid \n",
    "\n",
    "def lstm_model(concatenated_input):\n",
    "    classifier = Sequential()\n",
    "    classifier.add(CuDNNLSTM(1, input_shape=(concatenated_input.shape), return_sequences=True))\n",
    "    classifier.add(Dropout(0.2))\n",
    "    return sigmoid(classifier(concatenated_input))"
   ]
  },
  {
   "cell_type": "code",
   "execution_count": null,
   "id": "5ca24f65-8c10-42da-8389-a718bd569606",
   "metadata": {},
   "outputs": [],
   "source": []
  }
 ],
 "metadata": {
  "kernelspec": {
   "display_name": "Python 3 (ipykernel)",
   "language": "python",
   "name": "python3"
  },
  "language_info": {
   "codemirror_mode": {
    "name": "ipython",
    "version": 3
   },
   "file_extension": ".py",
   "mimetype": "text/x-python",
   "name": "python",
   "nbconvert_exporter": "python",
   "pygments_lexer": "ipython3",
   "version": "3.9.6"
  }
 },
 "nbformat": 4,
 "nbformat_minor": 5
}
