{
 "cells": [
  {
   "cell_type": "code",
   "execution_count": 26,
   "id": "99fe8c26-b978-45e5-9252-b3e914edd91d",
   "metadata": {},
   "outputs": [],
   "source": [
    "import os \n",
    "def keyframe_images(target_video,threshold = 50):\n",
    "    target_video = f'\"{target_video}\"'\n",
    "    output_directory = \"'\" + (os.getcwd() + \"/Dataset/keyframes\").replace(\"\\\\\",\"/\")  + \"'\"\n",
    "    output_directory = (output_directory).replace(\"'\", '\"')\n",
    "    scenedetect_script = \"scenedetect -i \" + str(target_video) + \" -o \" + str(output_directory) + \" detect-threshold -t \" + str(threshold) + \" split-video\" + \" save-images\"\n",
    "    os.system(scenedetect_script)\n",
    "    for root, dirs, files in os.walk('Dataset/keyframes'):\n",
    "        for filename in files:\n",
    "            if filename.endswith((\".mp4\",\".flv\",\".mpg\",\".avi\",\".wmv\",\".mpv\")):\n",
    "                input_file = (os.path.join(os.getcwd() + \"/Dataset/keyframes/\",filename)).replace(\"\\\\\",\"/\")\n",
    "                delete_videos = input_file.replace(\"/\",\"\\\\\")\n",
    "                input_file = f'\"{input_file}\"'\n",
    "                audio_script = \"ffmpeg -i \" +  str(input_file) + \" -vn -acodec pcm_s16le -ar 16000 -ac 2 \"  +str(input_file) + \".wav\"\n",
    "                os.system(audio_script)\n",
    "                os.remove(delete_videos) "
   ]
  },
  {
   "cell_type": "code",
   "execution_count": 27,
   "id": "3b6814c2-d64c-4fb3-8db8-2c2712a077d4",
   "metadata": {},
   "outputs": [],
   "source": [
    "target_video = \"C:/Users/Yared/Downloads/Computer Vision/project/Dataset/big_buck_bunny_480p_stereo.avi\"\n",
    "keyframe_images(target_video) "
   ]
  }
 ],
 "metadata": {
  "kernelspec": {
   "display_name": "Python 3 (ipykernel)",
   "language": "python",
   "name": "python3"
  },
  "language_info": {
   "codemirror_mode": {
    "name": "ipython",
    "version": 3
   },
   "file_extension": ".py",
   "mimetype": "text/x-python",
   "name": "python",
   "nbconvert_exporter": "python",
   "pygments_lexer": "ipython3",
   "version": "3.9.6"
  }
 },
 "nbformat": 4,
 "nbformat_minor": 5
}
